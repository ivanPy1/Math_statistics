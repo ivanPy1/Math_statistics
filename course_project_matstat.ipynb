{
 "cells": [
  {
   "cell_type": "markdown",
   "id": "ceee531f",
   "metadata": {},
   "source": [
    "# Курсовой проект"
   ]
  },
  {
   "cell_type": "markdown",
   "id": "3d15a3c5",
   "metadata": {},
   "source": [
    "## Курс \"Теория вероятностей и математическая статистика\""
   ]
  },
  {
   "cell_type": "markdown",
   "id": "4d0461fc",
   "metadata": {},
   "source": [
    "### \"Статистическое сопоставление симптомов у пациентов, имеющих рак легких и определение тех, которые встречаются достоверно\""
   ]
  },
  {
   "cell_type": "code",
   "execution_count": 1,
   "id": "5c8a4858",
   "metadata": {},
   "outputs": [],
   "source": [
    "# импортируем необходимые для расчета библиотеки\n",
    "import pandas as pd\n",
    "import numpy as np\n",
    "from math import sqrt\n",
    "import seaborn as sns\n",
    "import matplotlib.pyplot as plt\n",
    "import scipy as sp\n",
    "import scipy.stats\n",
    "from scipy.stats import fisher_exact\n",
    "\n",
    "import warnings\n",
    "warnings.filterwarnings('ignore')"
   ]
  },
  {
   "cell_type": "markdown",
   "id": "03b6ed3a",
   "metadata": {},
   "source": [
    "### 1. Download dataset"
   ]
  },
  {
   "cell_type": "code",
   "execution_count": 2,
   "id": "8a526246",
   "metadata": {},
   "outputs": [],
   "source": [
    "data_set = 'lung_cancer.csv'"
   ]
  },
  {
   "cell_type": "code",
   "execution_count": 3,
   "id": "cc1f05b6",
   "metadata": {},
   "outputs": [
    {
     "data": {
      "text/html": [
       "<div>\n",
       "<style scoped>\n",
       "    .dataframe tbody tr th:only-of-type {\n",
       "        vertical-align: middle;\n",
       "    }\n",
       "\n",
       "    .dataframe tbody tr th {\n",
       "        vertical-align: top;\n",
       "    }\n",
       "\n",
       "    .dataframe thead th {\n",
       "        text-align: right;\n",
       "    }\n",
       "</style>\n",
       "<table border=\"1\" class=\"dataframe\">\n",
       "  <thead>\n",
       "    <tr style=\"text-align: right;\">\n",
       "      <th></th>\n",
       "      <th>GENDER</th>\n",
       "      <th>AGE</th>\n",
       "      <th>SMOKING</th>\n",
       "      <th>YELLOW_FINGERS</th>\n",
       "      <th>ANXIETY</th>\n",
       "      <th>PEER_PRESSURE</th>\n",
       "      <th>CHRONIC_DISEASE</th>\n",
       "      <th>FATIGUE</th>\n",
       "      <th>ALLERGY</th>\n",
       "      <th>WHEEZING</th>\n",
       "      <th>ALCOHOL_CONSUMING</th>\n",
       "      <th>COUGHING</th>\n",
       "      <th>SHORTNESS_OF_BREATH</th>\n",
       "      <th>SWALLOWING_DIFFICULTY</th>\n",
       "      <th>CHEST_PAIN</th>\n",
       "      <th>LUNG_CANCER</th>\n",
       "    </tr>\n",
       "  </thead>\n",
       "  <tbody>\n",
       "    <tr>\n",
       "      <th>0</th>\n",
       "      <td>M</td>\n",
       "      <td>69</td>\n",
       "      <td>1</td>\n",
       "      <td>2</td>\n",
       "      <td>2</td>\n",
       "      <td>1</td>\n",
       "      <td>1</td>\n",
       "      <td>2</td>\n",
       "      <td>1</td>\n",
       "      <td>2</td>\n",
       "      <td>2</td>\n",
       "      <td>2</td>\n",
       "      <td>2</td>\n",
       "      <td>2</td>\n",
       "      <td>2</td>\n",
       "      <td>YES</td>\n",
       "    </tr>\n",
       "    <tr>\n",
       "      <th>1</th>\n",
       "      <td>M</td>\n",
       "      <td>74</td>\n",
       "      <td>2</td>\n",
       "      <td>1</td>\n",
       "      <td>1</td>\n",
       "      <td>1</td>\n",
       "      <td>2</td>\n",
       "      <td>2</td>\n",
       "      <td>2</td>\n",
       "      <td>1</td>\n",
       "      <td>1</td>\n",
       "      <td>1</td>\n",
       "      <td>2</td>\n",
       "      <td>2</td>\n",
       "      <td>2</td>\n",
       "      <td>YES</td>\n",
       "    </tr>\n",
       "    <tr>\n",
       "      <th>2</th>\n",
       "      <td>F</td>\n",
       "      <td>59</td>\n",
       "      <td>1</td>\n",
       "      <td>1</td>\n",
       "      <td>1</td>\n",
       "      <td>2</td>\n",
       "      <td>1</td>\n",
       "      <td>2</td>\n",
       "      <td>1</td>\n",
       "      <td>2</td>\n",
       "      <td>1</td>\n",
       "      <td>2</td>\n",
       "      <td>2</td>\n",
       "      <td>1</td>\n",
       "      <td>2</td>\n",
       "      <td>NO</td>\n",
       "    </tr>\n",
       "    <tr>\n",
       "      <th>3</th>\n",
       "      <td>M</td>\n",
       "      <td>63</td>\n",
       "      <td>2</td>\n",
       "      <td>2</td>\n",
       "      <td>2</td>\n",
       "      <td>1</td>\n",
       "      <td>1</td>\n",
       "      <td>1</td>\n",
       "      <td>1</td>\n",
       "      <td>1</td>\n",
       "      <td>2</td>\n",
       "      <td>1</td>\n",
       "      <td>1</td>\n",
       "      <td>2</td>\n",
       "      <td>2</td>\n",
       "      <td>NO</td>\n",
       "    </tr>\n",
       "    <tr>\n",
       "      <th>4</th>\n",
       "      <td>F</td>\n",
       "      <td>63</td>\n",
       "      <td>1</td>\n",
       "      <td>2</td>\n",
       "      <td>1</td>\n",
       "      <td>1</td>\n",
       "      <td>1</td>\n",
       "      <td>1</td>\n",
       "      <td>1</td>\n",
       "      <td>2</td>\n",
       "      <td>1</td>\n",
       "      <td>2</td>\n",
       "      <td>2</td>\n",
       "      <td>1</td>\n",
       "      <td>1</td>\n",
       "      <td>NO</td>\n",
       "    </tr>\n",
       "  </tbody>\n",
       "</table>\n",
       "</div>"
      ],
      "text/plain": [
       "  GENDER  AGE  SMOKING  YELLOW_FINGERS  ANXIETY  PEER_PRESSURE  \\\n",
       "0      M   69        1               2        2              1   \n",
       "1      M   74        2               1        1              1   \n",
       "2      F   59        1               1        1              2   \n",
       "3      M   63        2               2        2              1   \n",
       "4      F   63        1               2        1              1   \n",
       "\n",
       "   CHRONIC_DISEASE  FATIGUE  ALLERGY  WHEEZING  ALCOHOL_CONSUMING  COUGHING  \\\n",
       "0                1        2        1         2                  2         2   \n",
       "1                2        2        2         1                  1         1   \n",
       "2                1        2        1         2                  1         2   \n",
       "3                1        1        1         1                  2         1   \n",
       "4                1        1        1         2                  1         2   \n",
       "\n",
       "   SHORTNESS_OF_BREATH  SWALLOWING_DIFFICULTY  CHEST_PAIN LUNG_CANCER  \n",
       "0                    2                      2           2         YES  \n",
       "1                    2                      2           2         YES  \n",
       "2                    2                      1           2          NO  \n",
       "3                    1                      2           2          NO  \n",
       "4                    2                      1           1          NO  "
      ]
     },
     "execution_count": 3,
     "metadata": {},
     "output_type": "execute_result"
    }
   ],
   "source": [
    "data = pd.read_csv(data_set, sep=',')\n",
    "data.head()"
   ]
  },
  {
   "cell_type": "code",
   "execution_count": 4,
   "id": "748d3ebd",
   "metadata": {},
   "outputs": [
    {
     "data": {
      "text/html": [
       "<div>\n",
       "<style scoped>\n",
       "    .dataframe tbody tr th:only-of-type {\n",
       "        vertical-align: middle;\n",
       "    }\n",
       "\n",
       "    .dataframe tbody tr th {\n",
       "        vertical-align: top;\n",
       "    }\n",
       "\n",
       "    .dataframe thead th {\n",
       "        text-align: right;\n",
       "    }\n",
       "</style>\n",
       "<table border=\"1\" class=\"dataframe\">\n",
       "  <thead>\n",
       "    <tr style=\"text-align: right;\">\n",
       "      <th></th>\n",
       "      <th>GENDER</th>\n",
       "      <th>AGE</th>\n",
       "      <th>SMOKING</th>\n",
       "      <th>YELLOW_FINGERS</th>\n",
       "      <th>ANXIETY</th>\n",
       "      <th>PEER_PRESSURE</th>\n",
       "      <th>CHRONIC_DISEASE</th>\n",
       "      <th>FATIGUE</th>\n",
       "      <th>ALLERGY</th>\n",
       "      <th>WHEEZING</th>\n",
       "      <th>ALCOHOL_CONSUMING</th>\n",
       "      <th>COUGHING</th>\n",
       "      <th>SHORTNESS_OF_BREATH</th>\n",
       "      <th>SWALLOWING_DIFFICULTY</th>\n",
       "      <th>CHEST_PAIN</th>\n",
       "      <th>LUNG_CANCER</th>\n",
       "    </tr>\n",
       "  </thead>\n",
       "  <tbody>\n",
       "    <tr>\n",
       "      <th>304</th>\n",
       "      <td>F</td>\n",
       "      <td>56</td>\n",
       "      <td>1</td>\n",
       "      <td>1</td>\n",
       "      <td>1</td>\n",
       "      <td>2</td>\n",
       "      <td>2</td>\n",
       "      <td>2</td>\n",
       "      <td>1</td>\n",
       "      <td>1</td>\n",
       "      <td>2</td>\n",
       "      <td>2</td>\n",
       "      <td>2</td>\n",
       "      <td>2</td>\n",
       "      <td>1</td>\n",
       "      <td>YES</td>\n",
       "    </tr>\n",
       "    <tr>\n",
       "      <th>305</th>\n",
       "      <td>M</td>\n",
       "      <td>70</td>\n",
       "      <td>2</td>\n",
       "      <td>1</td>\n",
       "      <td>1</td>\n",
       "      <td>1</td>\n",
       "      <td>1</td>\n",
       "      <td>2</td>\n",
       "      <td>2</td>\n",
       "      <td>2</td>\n",
       "      <td>2</td>\n",
       "      <td>2</td>\n",
       "      <td>2</td>\n",
       "      <td>1</td>\n",
       "      <td>2</td>\n",
       "      <td>YES</td>\n",
       "    </tr>\n",
       "    <tr>\n",
       "      <th>306</th>\n",
       "      <td>M</td>\n",
       "      <td>58</td>\n",
       "      <td>2</td>\n",
       "      <td>1</td>\n",
       "      <td>1</td>\n",
       "      <td>1</td>\n",
       "      <td>1</td>\n",
       "      <td>1</td>\n",
       "      <td>2</td>\n",
       "      <td>2</td>\n",
       "      <td>2</td>\n",
       "      <td>2</td>\n",
       "      <td>1</td>\n",
       "      <td>1</td>\n",
       "      <td>2</td>\n",
       "      <td>YES</td>\n",
       "    </tr>\n",
       "    <tr>\n",
       "      <th>307</th>\n",
       "      <td>M</td>\n",
       "      <td>67</td>\n",
       "      <td>2</td>\n",
       "      <td>1</td>\n",
       "      <td>2</td>\n",
       "      <td>1</td>\n",
       "      <td>1</td>\n",
       "      <td>2</td>\n",
       "      <td>2</td>\n",
       "      <td>1</td>\n",
       "      <td>2</td>\n",
       "      <td>2</td>\n",
       "      <td>2</td>\n",
       "      <td>1</td>\n",
       "      <td>2</td>\n",
       "      <td>YES</td>\n",
       "    </tr>\n",
       "    <tr>\n",
       "      <th>308</th>\n",
       "      <td>M</td>\n",
       "      <td>62</td>\n",
       "      <td>1</td>\n",
       "      <td>1</td>\n",
       "      <td>1</td>\n",
       "      <td>2</td>\n",
       "      <td>1</td>\n",
       "      <td>2</td>\n",
       "      <td>2</td>\n",
       "      <td>2</td>\n",
       "      <td>2</td>\n",
       "      <td>1</td>\n",
       "      <td>1</td>\n",
       "      <td>2</td>\n",
       "      <td>1</td>\n",
       "      <td>YES</td>\n",
       "    </tr>\n",
       "  </tbody>\n",
       "</table>\n",
       "</div>"
      ],
      "text/plain": [
       "    GENDER  AGE  SMOKING  YELLOW_FINGERS  ANXIETY  PEER_PRESSURE  \\\n",
       "304      F   56        1               1        1              2   \n",
       "305      M   70        2               1        1              1   \n",
       "306      M   58        2               1        1              1   \n",
       "307      M   67        2               1        2              1   \n",
       "308      M   62        1               1        1              2   \n",
       "\n",
       "     CHRONIC_DISEASE  FATIGUE  ALLERGY  WHEEZING  ALCOHOL_CONSUMING  COUGHING  \\\n",
       "304                2        2        1         1                  2         2   \n",
       "305                1        2        2         2                  2         2   \n",
       "306                1        1        2         2                  2         2   \n",
       "307                1        2        2         1                  2         2   \n",
       "308                1        2        2         2                  2         1   \n",
       "\n",
       "     SHORTNESS_OF_BREATH  SWALLOWING_DIFFICULTY  CHEST_PAIN LUNG_CANCER  \n",
       "304                    2                      2           1         YES  \n",
       "305                    2                      1           2         YES  \n",
       "306                    1                      1           2         YES  \n",
       "307                    2                      1           2         YES  \n",
       "308                    1                      2           1         YES  "
      ]
     },
     "execution_count": 4,
     "metadata": {},
     "output_type": "execute_result"
    }
   ],
   "source": [
    "data.tail()"
   ]
  },
  {
   "cell_type": "code",
   "execution_count": 5,
   "id": "0e0ce9cb",
   "metadata": {},
   "outputs": [],
   "source": [
    "# всего в датасете 309 записей"
   ]
  },
  {
   "cell_type": "markdown",
   "id": "c9b4e5fa",
   "metadata": {},
   "source": [
    "##### посмотрим типы данных столбцов (признаков)"
   ]
  },
  {
   "cell_type": "code",
   "execution_count": 6,
   "id": "e88c8010",
   "metadata": {},
   "outputs": [
    {
     "data": {
      "text/plain": [
       "GENDER                   object\n",
       "AGE                       int64\n",
       "SMOKING                   int64\n",
       "YELLOW_FINGERS            int64\n",
       "ANXIETY                   int64\n",
       "PEER_PRESSURE             int64\n",
       "CHRONIC_DISEASE           int64\n",
       "FATIGUE                   int64\n",
       "ALLERGY                   int64\n",
       "WHEEZING                  int64\n",
       "ALCOHOL_CONSUMING         int64\n",
       "COUGHING                  int64\n",
       "SHORTNESS_OF_BREATH       int64\n",
       "SWALLOWING_DIFFICULTY     int64\n",
       "CHEST_PAIN                int64\n",
       "LUNG_CANCER              object\n",
       "dtype: object"
      ]
     },
     "execution_count": 6,
     "metadata": {},
     "output_type": "execute_result"
    }
   ],
   "source": [
    "data.dtypes"
   ]
  },
  {
   "cell_type": "code",
   "execution_count": 7,
   "id": "6dd64f0a",
   "metadata": {},
   "outputs": [],
   "source": [
    "# Attribute information / Информация об атрибутах:\n",
    "\n",
    "# Gender: M(male), F(female) - пол\n",
    "# Age: Age of the patient - возраст \n",
    "# Smoking: YES=2 , NO=1. - курение \n",
    "# Yellow fingers: YES=2 , NO=1. - желтые пальцы\n",
    "# Anxiety: YES=2 , NO=1. - тревога\n",
    "# Peer_pressure: YES=2 , NO=1. - скачки давления \n",
    "# Chronic Disease: YES=2 , NO=1. - хроническое заболевание \n",
    "# Fatigue: YES=2 , NO=1. - усталость\n",
    "# Allergy: YES=2 , NO=1. - аллергия \n",
    "# Wheezing: YES=2 , NO=1. - свистящее дыхание \n",
    "# Alcohol: YES=2 , NO=1. - употребление алкоголя \n",
    "# Coughing: YES=2 , NO=1. - кашель \n",
    "# Shortness of Breath: YES=2 , NO=1. - одышка \n",
    "# Swallowing Difficulty: YES=2 , NO=1. - затрудненное глотание \n",
    "# Chest pain: YES=2 , NO=1. - боль в груди\n",
    "# Lung Cancer: YES , NO. - рак легких "
   ]
  },
  {
   "cell_type": "markdown",
   "id": "fc03defe",
   "metadata": {},
   "source": [
    "### Этапы проверки:\n",
    "#### 1. Сформулировать основную и альтернативную гипотезы.\n",
    "##### - основная гипотеза, что симптомы: \"желтые пальцы\", \"тревога\", \"скачки давления\", \"усталость\", \"аллергия\", \"свистящее дыхание\", \"кашель\", \"одышка\", \"затрудненное глотание\", \"боли в груди\" чаще встречаются у больных с раком легких\n",
    "#### 2. Выбрать статистический критерий, по которому будет проводиться проверка.\n",
    "##### - критерий Фишера \n",
    "#### 3. Задать уровень значимости α или вероятность, с которой будет выполняться эта гипотеза.\n",
    "#####  α = 0,05\n",
    "#### 4. Определить границы области гипотезы.\n",
    "#### 5. Подвести итоги и сформулировать вывод."
   ]
  },
  {
   "cell_type": "markdown",
   "id": "867be3c2",
   "metadata": {},
   "source": [
    "## 2. EDA (exploratory data analysis)"
   ]
  },
  {
   "cell_type": "code",
   "execution_count": 8,
   "id": "3606291e",
   "metadata": {},
   "outputs": [
    {
     "data": {
      "text/html": [
       "<div>\n",
       "<style scoped>\n",
       "    .dataframe tbody tr th:only-of-type {\n",
       "        vertical-align: middle;\n",
       "    }\n",
       "\n",
       "    .dataframe tbody tr th {\n",
       "        vertical-align: top;\n",
       "    }\n",
       "\n",
       "    .dataframe thead th {\n",
       "        text-align: right;\n",
       "    }\n",
       "</style>\n",
       "<table border=\"1\" class=\"dataframe\">\n",
       "  <thead>\n",
       "    <tr style=\"text-align: right;\">\n",
       "      <th></th>\n",
       "      <th>AGE</th>\n",
       "      <th>SMOKING</th>\n",
       "      <th>YELLOW_FINGERS</th>\n",
       "      <th>ANXIETY</th>\n",
       "      <th>PEER_PRESSURE</th>\n",
       "      <th>CHRONIC_DISEASE</th>\n",
       "      <th>FATIGUE</th>\n",
       "      <th>ALLERGY</th>\n",
       "      <th>WHEEZING</th>\n",
       "      <th>ALCOHOL_CONSUMING</th>\n",
       "      <th>COUGHING</th>\n",
       "      <th>SHORTNESS_OF_BREATH</th>\n",
       "      <th>SWALLOWING_DIFFICULTY</th>\n",
       "      <th>CHEST_PAIN</th>\n",
       "    </tr>\n",
       "  </thead>\n",
       "  <tbody>\n",
       "    <tr>\n",
       "      <th>count</th>\n",
       "      <td>309.000000</td>\n",
       "      <td>309.000000</td>\n",
       "      <td>309.000000</td>\n",
       "      <td>309.000000</td>\n",
       "      <td>309.000000</td>\n",
       "      <td>309.000000</td>\n",
       "      <td>309.000000</td>\n",
       "      <td>309.000000</td>\n",
       "      <td>309.000000</td>\n",
       "      <td>309.000000</td>\n",
       "      <td>309.000000</td>\n",
       "      <td>309.000000</td>\n",
       "      <td>309.000000</td>\n",
       "      <td>309.000000</td>\n",
       "    </tr>\n",
       "    <tr>\n",
       "      <th>mean</th>\n",
       "      <td>62.673139</td>\n",
       "      <td>1.563107</td>\n",
       "      <td>1.569579</td>\n",
       "      <td>1.498382</td>\n",
       "      <td>1.501618</td>\n",
       "      <td>1.504854</td>\n",
       "      <td>1.673139</td>\n",
       "      <td>1.556634</td>\n",
       "      <td>1.556634</td>\n",
       "      <td>1.556634</td>\n",
       "      <td>1.579288</td>\n",
       "      <td>1.640777</td>\n",
       "      <td>1.469256</td>\n",
       "      <td>1.556634</td>\n",
       "    </tr>\n",
       "    <tr>\n",
       "      <th>std</th>\n",
       "      <td>8.210301</td>\n",
       "      <td>0.496806</td>\n",
       "      <td>0.495938</td>\n",
       "      <td>0.500808</td>\n",
       "      <td>0.500808</td>\n",
       "      <td>0.500787</td>\n",
       "      <td>0.469827</td>\n",
       "      <td>0.497588</td>\n",
       "      <td>0.497588</td>\n",
       "      <td>0.497588</td>\n",
       "      <td>0.494474</td>\n",
       "      <td>0.480551</td>\n",
       "      <td>0.499863</td>\n",
       "      <td>0.497588</td>\n",
       "    </tr>\n",
       "    <tr>\n",
       "      <th>min</th>\n",
       "      <td>21.000000</td>\n",
       "      <td>1.000000</td>\n",
       "      <td>1.000000</td>\n",
       "      <td>1.000000</td>\n",
       "      <td>1.000000</td>\n",
       "      <td>1.000000</td>\n",
       "      <td>1.000000</td>\n",
       "      <td>1.000000</td>\n",
       "      <td>1.000000</td>\n",
       "      <td>1.000000</td>\n",
       "      <td>1.000000</td>\n",
       "      <td>1.000000</td>\n",
       "      <td>1.000000</td>\n",
       "      <td>1.000000</td>\n",
       "    </tr>\n",
       "    <tr>\n",
       "      <th>25%</th>\n",
       "      <td>57.000000</td>\n",
       "      <td>1.000000</td>\n",
       "      <td>1.000000</td>\n",
       "      <td>1.000000</td>\n",
       "      <td>1.000000</td>\n",
       "      <td>1.000000</td>\n",
       "      <td>1.000000</td>\n",
       "      <td>1.000000</td>\n",
       "      <td>1.000000</td>\n",
       "      <td>1.000000</td>\n",
       "      <td>1.000000</td>\n",
       "      <td>1.000000</td>\n",
       "      <td>1.000000</td>\n",
       "      <td>1.000000</td>\n",
       "    </tr>\n",
       "    <tr>\n",
       "      <th>50%</th>\n",
       "      <td>62.000000</td>\n",
       "      <td>2.000000</td>\n",
       "      <td>2.000000</td>\n",
       "      <td>1.000000</td>\n",
       "      <td>2.000000</td>\n",
       "      <td>2.000000</td>\n",
       "      <td>2.000000</td>\n",
       "      <td>2.000000</td>\n",
       "      <td>2.000000</td>\n",
       "      <td>2.000000</td>\n",
       "      <td>2.000000</td>\n",
       "      <td>2.000000</td>\n",
       "      <td>1.000000</td>\n",
       "      <td>2.000000</td>\n",
       "    </tr>\n",
       "    <tr>\n",
       "      <th>75%</th>\n",
       "      <td>69.000000</td>\n",
       "      <td>2.000000</td>\n",
       "      <td>2.000000</td>\n",
       "      <td>2.000000</td>\n",
       "      <td>2.000000</td>\n",
       "      <td>2.000000</td>\n",
       "      <td>2.000000</td>\n",
       "      <td>2.000000</td>\n",
       "      <td>2.000000</td>\n",
       "      <td>2.000000</td>\n",
       "      <td>2.000000</td>\n",
       "      <td>2.000000</td>\n",
       "      <td>2.000000</td>\n",
       "      <td>2.000000</td>\n",
       "    </tr>\n",
       "    <tr>\n",
       "      <th>max</th>\n",
       "      <td>87.000000</td>\n",
       "      <td>2.000000</td>\n",
       "      <td>2.000000</td>\n",
       "      <td>2.000000</td>\n",
       "      <td>2.000000</td>\n",
       "      <td>2.000000</td>\n",
       "      <td>2.000000</td>\n",
       "      <td>2.000000</td>\n",
       "      <td>2.000000</td>\n",
       "      <td>2.000000</td>\n",
       "      <td>2.000000</td>\n",
       "      <td>2.000000</td>\n",
       "      <td>2.000000</td>\n",
       "      <td>2.000000</td>\n",
       "    </tr>\n",
       "  </tbody>\n",
       "</table>\n",
       "</div>"
      ],
      "text/plain": [
       "              AGE     SMOKING  YELLOW_FINGERS     ANXIETY  PEER_PRESSURE  \\\n",
       "count  309.000000  309.000000      309.000000  309.000000     309.000000   \n",
       "mean    62.673139    1.563107        1.569579    1.498382       1.501618   \n",
       "std      8.210301    0.496806        0.495938    0.500808       0.500808   \n",
       "min     21.000000    1.000000        1.000000    1.000000       1.000000   \n",
       "25%     57.000000    1.000000        1.000000    1.000000       1.000000   \n",
       "50%     62.000000    2.000000        2.000000    1.000000       2.000000   \n",
       "75%     69.000000    2.000000        2.000000    2.000000       2.000000   \n",
       "max     87.000000    2.000000        2.000000    2.000000       2.000000   \n",
       "\n",
       "       CHRONIC_DISEASE     FATIGUE     ALLERGY    WHEEZING  ALCOHOL_CONSUMING  \\\n",
       "count       309.000000  309.000000  309.000000  309.000000         309.000000   \n",
       "mean          1.504854    1.673139    1.556634    1.556634           1.556634   \n",
       "std           0.500787    0.469827    0.497588    0.497588           0.497588   \n",
       "min           1.000000    1.000000    1.000000    1.000000           1.000000   \n",
       "25%           1.000000    1.000000    1.000000    1.000000           1.000000   \n",
       "50%           2.000000    2.000000    2.000000    2.000000           2.000000   \n",
       "75%           2.000000    2.000000    2.000000    2.000000           2.000000   \n",
       "max           2.000000    2.000000    2.000000    2.000000           2.000000   \n",
       "\n",
       "         COUGHING  SHORTNESS_OF_BREATH  SWALLOWING_DIFFICULTY  CHEST_PAIN  \n",
       "count  309.000000           309.000000             309.000000  309.000000  \n",
       "mean     1.579288             1.640777               1.469256    1.556634  \n",
       "std      0.494474             0.480551               0.499863    0.497588  \n",
       "min      1.000000             1.000000               1.000000    1.000000  \n",
       "25%      1.000000             1.000000               1.000000    1.000000  \n",
       "50%      2.000000             2.000000               1.000000    2.000000  \n",
       "75%      2.000000             2.000000               2.000000    2.000000  \n",
       "max      2.000000             2.000000               2.000000    2.000000  "
      ]
     },
     "execution_count": 8,
     "metadata": {},
     "output_type": "execute_result"
    }
   ],
   "source": [
    "data.describe()"
   ]
  },
  {
   "cell_type": "markdown",
   "id": "9a538a52",
   "metadata": {},
   "source": [
    "##### Кодирование Признаков (Encoding Categorical Features)¶"
   ]
  },
  {
   "cell_type": "code",
   "execution_count": 9,
   "id": "bef5b6c3",
   "metadata": {},
   "outputs": [],
   "source": [
    "# в датасете имеются два столбца - GENDER и LUNG_CANCER c с типом данным 'object'\n",
    "# закодируем их:"
   ]
  },
  {
   "cell_type": "code",
   "execution_count": 10,
   "id": "57ef87ba",
   "metadata": {},
   "outputs": [],
   "source": [
    "cleanup_nums_GENDER = {\"GENDER\":  {\"F\": 1, \"M\": 2}, \"LUNG_CANCER\": {\"YES\": 2, \"NO\": 1}}"
   ]
  },
  {
   "cell_type": "code",
   "execution_count": 11,
   "id": "71220d8c",
   "metadata": {},
   "outputs": [],
   "source": [
    "data[['GENDER', 'LUNG_CANCER']] = data[['GENDER', 'LUNG_CANCER']].replace(cleanup_nums_GENDER)"
   ]
  },
  {
   "cell_type": "code",
   "execution_count": 12,
   "id": "f6c1c03c",
   "metadata": {},
   "outputs": [
    {
     "data": {
      "text/html": [
       "<div>\n",
       "<style scoped>\n",
       "    .dataframe tbody tr th:only-of-type {\n",
       "        vertical-align: middle;\n",
       "    }\n",
       "\n",
       "    .dataframe tbody tr th {\n",
       "        vertical-align: top;\n",
       "    }\n",
       "\n",
       "    .dataframe thead th {\n",
       "        text-align: right;\n",
       "    }\n",
       "</style>\n",
       "<table border=\"1\" class=\"dataframe\">\n",
       "  <thead>\n",
       "    <tr style=\"text-align: right;\">\n",
       "      <th></th>\n",
       "      <th>GENDER</th>\n",
       "      <th>AGE</th>\n",
       "      <th>SMOKING</th>\n",
       "      <th>YELLOW_FINGERS</th>\n",
       "      <th>ANXIETY</th>\n",
       "      <th>PEER_PRESSURE</th>\n",
       "      <th>CHRONIC_DISEASE</th>\n",
       "      <th>FATIGUE</th>\n",
       "      <th>ALLERGY</th>\n",
       "      <th>WHEEZING</th>\n",
       "      <th>ALCOHOL_CONSUMING</th>\n",
       "      <th>COUGHING</th>\n",
       "      <th>SHORTNESS_OF_BREATH</th>\n",
       "      <th>SWALLOWING_DIFFICULTY</th>\n",
       "      <th>CHEST_PAIN</th>\n",
       "      <th>LUNG_CANCER</th>\n",
       "    </tr>\n",
       "  </thead>\n",
       "  <tbody>\n",
       "    <tr>\n",
       "      <th>0</th>\n",
       "      <td>2</td>\n",
       "      <td>69</td>\n",
       "      <td>1</td>\n",
       "      <td>2</td>\n",
       "      <td>2</td>\n",
       "      <td>1</td>\n",
       "      <td>1</td>\n",
       "      <td>2</td>\n",
       "      <td>1</td>\n",
       "      <td>2</td>\n",
       "      <td>2</td>\n",
       "      <td>2</td>\n",
       "      <td>2</td>\n",
       "      <td>2</td>\n",
       "      <td>2</td>\n",
       "      <td>2</td>\n",
       "    </tr>\n",
       "    <tr>\n",
       "      <th>1</th>\n",
       "      <td>2</td>\n",
       "      <td>74</td>\n",
       "      <td>2</td>\n",
       "      <td>1</td>\n",
       "      <td>1</td>\n",
       "      <td>1</td>\n",
       "      <td>2</td>\n",
       "      <td>2</td>\n",
       "      <td>2</td>\n",
       "      <td>1</td>\n",
       "      <td>1</td>\n",
       "      <td>1</td>\n",
       "      <td>2</td>\n",
       "      <td>2</td>\n",
       "      <td>2</td>\n",
       "      <td>2</td>\n",
       "    </tr>\n",
       "    <tr>\n",
       "      <th>2</th>\n",
       "      <td>1</td>\n",
       "      <td>59</td>\n",
       "      <td>1</td>\n",
       "      <td>1</td>\n",
       "      <td>1</td>\n",
       "      <td>2</td>\n",
       "      <td>1</td>\n",
       "      <td>2</td>\n",
       "      <td>1</td>\n",
       "      <td>2</td>\n",
       "      <td>1</td>\n",
       "      <td>2</td>\n",
       "      <td>2</td>\n",
       "      <td>1</td>\n",
       "      <td>2</td>\n",
       "      <td>1</td>\n",
       "    </tr>\n",
       "    <tr>\n",
       "      <th>3</th>\n",
       "      <td>2</td>\n",
       "      <td>63</td>\n",
       "      <td>2</td>\n",
       "      <td>2</td>\n",
       "      <td>2</td>\n",
       "      <td>1</td>\n",
       "      <td>1</td>\n",
       "      <td>1</td>\n",
       "      <td>1</td>\n",
       "      <td>1</td>\n",
       "      <td>2</td>\n",
       "      <td>1</td>\n",
       "      <td>1</td>\n",
       "      <td>2</td>\n",
       "      <td>2</td>\n",
       "      <td>1</td>\n",
       "    </tr>\n",
       "    <tr>\n",
       "      <th>4</th>\n",
       "      <td>1</td>\n",
       "      <td>63</td>\n",
       "      <td>1</td>\n",
       "      <td>2</td>\n",
       "      <td>1</td>\n",
       "      <td>1</td>\n",
       "      <td>1</td>\n",
       "      <td>1</td>\n",
       "      <td>1</td>\n",
       "      <td>2</td>\n",
       "      <td>1</td>\n",
       "      <td>2</td>\n",
       "      <td>2</td>\n",
       "      <td>1</td>\n",
       "      <td>1</td>\n",
       "      <td>1</td>\n",
       "    </tr>\n",
       "  </tbody>\n",
       "</table>\n",
       "</div>"
      ],
      "text/plain": [
       "   GENDER  AGE  SMOKING  YELLOW_FINGERS  ANXIETY  PEER_PRESSURE  \\\n",
       "0       2   69        1               2        2              1   \n",
       "1       2   74        2               1        1              1   \n",
       "2       1   59        1               1        1              2   \n",
       "3       2   63        2               2        2              1   \n",
       "4       1   63        1               2        1              1   \n",
       "\n",
       "   CHRONIC_DISEASE  FATIGUE  ALLERGY  WHEEZING  ALCOHOL_CONSUMING  COUGHING  \\\n",
       "0                1        2        1         2                  2         2   \n",
       "1                2        2        2         1                  1         1   \n",
       "2                1        2        1         2                  1         2   \n",
       "3                1        1        1         1                  2         1   \n",
       "4                1        1        1         2                  1         2   \n",
       "\n",
       "   SHORTNESS_OF_BREATH  SWALLOWING_DIFFICULTY  CHEST_PAIN  LUNG_CANCER  \n",
       "0                    2                      2           2            2  \n",
       "1                    2                      2           2            2  \n",
       "2                    2                      1           2            1  \n",
       "3                    1                      2           2            1  \n",
       "4                    2                      1           1            1  "
      ]
     },
     "execution_count": 12,
     "metadata": {},
     "output_type": "execute_result"
    }
   ],
   "source": [
    "data.head()"
   ]
  },
  {
   "cell_type": "code",
   "execution_count": 13,
   "id": "05b91984",
   "metadata": {},
   "outputs": [],
   "source": [
    "# в качестве симптомов выступают следующие признаки:\n",
    "YELLOW_FINGERS = data['YELLOW_FINGERS'] # желтые пальцы \n",
    "ANXIETY = data['ANXIETY'] # тревога\n",
    "PEER_PRESSURE = data['PEER_PRESSURE'] # скачки давления \n",
    "FATIGUE = data['FATIGUE'] # усталость \n",
    "ALLERGY = data['ALLERGY'] # аллергия\n",
    "WHEEZING = data['WHEEZING'] # свистящее дыхание \n",
    "COUGHING = data['COUGHING'] # кашель\n",
    "SHORTNESS_OF_BREATH = data['SHORTNESS_OF_BREATH'] # одышка \n",
    "SWALLOWING_DIFFICULTY = data['SWALLOWING_DIFFICULTY'] # затрудненное глотание\n",
    "CHEST_PAIN = data['CHEST_PAIN'] # боли в груди "
   ]
  },
  {
   "cell_type": "code",
   "execution_count": 14,
   "id": "2e3f7c39",
   "metadata": {},
   "outputs": [
    {
     "data": {
      "text/plain": [
       "LUNG_CANCER  YELLOW_FINGERS\n",
       "1            1                  26\n",
       "             2                  13\n",
       "2            2                 163\n",
       "             1                 107\n",
       "Name: YELLOW_FINGERS, dtype: int64"
      ]
     },
     "execution_count": 14,
     "metadata": {},
     "output_type": "execute_result"
    }
   ],
   "source": [
    "data.groupby('LUNG_CANCER')['YELLOW_FINGERS'].value_counts()"
   ]
  },
  {
   "cell_type": "markdown",
   "id": "2c3a86c8",
   "metadata": {},
   "source": [
    "обычно уровень значимости принимается как 5% (или 0,05), то меньше 5 (0,05) - различия достоверны"
   ]
  },
  {
   "cell_type": "code",
   "execution_count": 15,
   "id": "52e53bdf",
   "metadata": {},
   "outputs": [
    {
     "name": "stdout",
     "output_type": "stream",
     "text": [
      "несбалансированное соотношениие составляет: 0.0017475195910311545 или 0.17%\n",
      "статистически значимо, так как 0.0017475195910311545 <= 0.05\n",
      "симптом \"желтые пальцы\" достоверно чаще встречается у больных раком легких\n"
     ]
    }
   ],
   "source": [
    "YELLOW_FINGERS = [[26, 107],[13, 163]]\n",
    "oddsratio, pvalue = fisher_exact(YELLOW_FINGERS, alternative='two-sided')\n",
    "print(f'несбалансированное соотношениие составляет: {pvalue} или {round(pvalue * 100, 2)}%')\n",
    "if pvalue > 0.05:\n",
    "    print(f'статистически незначимо, так как {pvalue} > 0.05')\n",
    "else:\n",
    "    print(f'статистически значимо, так как {pvalue} <= 0.05')\n",
    "    print(f'симптом \"желтые пальцы\" достоверно чаще встречается у больных раком легких')"
   ]
  },
  {
   "cell_type": "code",
   "execution_count": 16,
   "id": "3f0fb441",
   "metadata": {},
   "outputs": [
    {
     "data": {
      "text/plain": [
       "LUNG_CANCER  ANXIETY\n",
       "1            1           27\n",
       "             2           12\n",
       "2            2          142\n",
       "             1          128\n",
       "Name: ANXIETY, dtype: int64"
      ]
     },
     "execution_count": 16,
     "metadata": {},
     "output_type": "execute_result"
    }
   ],
   "source": [
    "data.groupby('LUNG_CANCER')['ANXIETY'].value_counts()"
   ]
  },
  {
   "cell_type": "code",
   "execution_count": 17,
   "id": "f3b7f628",
   "metadata": {},
   "outputs": [
    {
     "name": "stdout",
     "output_type": "stream",
     "text": [
      "несбалансированное соотношениие составляет: 0.015643534176720708 или 1.56%\n",
      "статистически значимо, так как 0.015643534176720708 <= 0.05\n",
      "симптом \"тревога\" достоверно чаще встречается у больных раком легких\n"
     ]
    }
   ],
   "source": [
    "ANXIETY = [[27, 128],[12, 142]]\n",
    "oddsratio, pvalue = fisher_exact(ANXIETY, alternative='two-sided')\n",
    "print(f'несбалансированное соотношениие составляет: {pvalue} или {round(pvalue * 100, 2)}%')\n",
    "if pvalue > 0.05:\n",
    "    print(f'статистически незначимо, так как {pvalue} > 0.05')\n",
    "else:\n",
    "    print(f'статистически значимо, так как {pvalue} <= 0.05')\n",
    "    print(f'симптом \"тревога\" достоверно чаще встречается у больных раком легких')"
   ]
  },
  {
   "cell_type": "code",
   "execution_count": 18,
   "id": "ef9ab01f",
   "metadata": {},
   "outputs": [
    {
     "data": {
      "text/plain": [
       "LUNG_CANCER  PEER_PRESSURE\n",
       "1            1                 29\n",
       "             2                 10\n",
       "2            2                145\n",
       "             1                125\n",
       "Name: PEER_PRESSURE, dtype: int64"
      ]
     },
     "execution_count": 18,
     "metadata": {},
     "output_type": "execute_result"
    }
   ],
   "source": [
    "data.groupby('LUNG_CANCER')['PEER_PRESSURE'].value_counts()"
   ]
  },
  {
   "cell_type": "code",
   "execution_count": 19,
   "id": "3b674263",
   "metadata": {},
   "outputs": [
    {
     "name": "stdout",
     "output_type": "stream",
     "text": [
      "несбалансированное соотношениие составляет: 0.0010713435469612903 или 0.11%\n",
      "статистически значимо, так как 0.0010713435469612903 <= 0.05\n",
      "симптом \"скачки давления\" достоверно чаще встречается у больных раком легких\n"
     ]
    }
   ],
   "source": [
    "ANXIETY = [[29, 125],[10, 145]]\n",
    "oddsratio, pvalue = fisher_exact(ANXIETY, alternative='two-sided')\n",
    "print(f'несбалансированное соотношениие составляет: {pvalue} или {round(pvalue * 100, 2)}%')\n",
    "if pvalue > 0.05:\n",
    "    print(f'статистически незначимо, так как {pvalue} > 0.05')\n",
    "else:\n",
    "    print(f'статистически значимо, так как {pvalue} <= 0.05')\n",
    "    print(f'симптом \"скачки давления\" достоверно чаще встречается у больных раком легких')"
   ]
  },
  {
   "cell_type": "code",
   "execution_count": 20,
   "id": "97f490ab",
   "metadata": {},
   "outputs": [
    {
     "data": {
      "text/plain": [
       "LUNG_CANCER  FATIGUE\n",
       "1            1           20\n",
       "             2           19\n",
       "2            2          189\n",
       "             1           81\n",
       "Name: FATIGUE, dtype: int64"
      ]
     },
     "execution_count": 20,
     "metadata": {},
     "output_type": "execute_result"
    }
   ],
   "source": [
    "data.groupby('LUNG_CANCER')['FATIGUE'].value_counts()"
   ]
  },
  {
   "cell_type": "code",
   "execution_count": 21,
   "id": "15e1276a",
   "metadata": {},
   "outputs": [
    {
     "name": "stdout",
     "output_type": "stream",
     "text": [
      "несбалансированное соотношениие составляет: 0.010521933794852556 или 1.05%\n",
      "статистически значимо, так как 0.010521933794852556 <= 0.05\n",
      "симптом \"усталость\" достоверно чаще встречается у больных раком легких\n"
     ]
    }
   ],
   "source": [
    "FATIGUE = [[20, 81],[19, 189]]\n",
    "oddsratio, pvalue = fisher_exact(FATIGUE, alternative='two-sided')\n",
    "print(f'несбалансированное соотношениие составляет: {pvalue} или {round(pvalue * 100, 2)}%')\n",
    "if pvalue > 0.05:\n",
    "    print(f'статистически незначимо, так как {pvalue} > 0.05')\n",
    "else:\n",
    "    print(f'статистически значимо, так как {pvalue} <= 0.05')\n",
    "    print(f'симптом \"усталость\" достоверно чаще встречается у больных раком легких')"
   ]
  },
  {
   "cell_type": "code",
   "execution_count": 22,
   "id": "0a1d1f44",
   "metadata": {},
   "outputs": [
    {
     "data": {
      "text/plain": [
       "LUNG_CANCER  ALLERGY\n",
       "1            1           34\n",
       "             2            5\n",
       "2            2          167\n",
       "             1          103\n",
       "Name: ALLERGY, dtype: int64"
      ]
     },
     "execution_count": 22,
     "metadata": {},
     "output_type": "execute_result"
    }
   ],
   "source": [
    "data.groupby('LUNG_CANCER')['ALLERGY'].value_counts()"
   ]
  },
  {
   "cell_type": "code",
   "execution_count": 23,
   "id": "64d4d6f1",
   "metadata": {},
   "outputs": [
    {
     "name": "stdout",
     "output_type": "stream",
     "text": [
      "несбалансированное соотношениие составляет: 4.873476581685877e-09 или 0.0%\n",
      "статистически значимо, так как 4.873476581685877e-09 <= 0.05\n",
      "симптом \"аллергия\" достоверно чаще встречается у больных раком легких\n"
     ]
    }
   ],
   "source": [
    "ALLERGY = [[34, 103],[5, 167]]\n",
    "oddsratio, pvalue = fisher_exact(ALLERGY, alternative='two-sided')\n",
    "print(f'несбалансированное соотношениие составляет: {pvalue} или {round(pvalue * 100, 2)}%')\n",
    "if pvalue > 0.05:\n",
    "    print(f'статистически незначимо, так как {pvalue} > 0.05')\n",
    "else:\n",
    "    print(f'статистически значимо, так как {pvalue} <= 0.05')\n",
    "    print(f'симптом \"аллергия\" достоверно чаще встречается у больных раком легких')"
   ]
  },
  {
   "cell_type": "code",
   "execution_count": 24,
   "id": "a902f6bd",
   "metadata": {},
   "outputs": [
    {
     "data": {
      "text/plain": [
       "LUNG_CANCER  WHEEZING\n",
       "1            1            30\n",
       "             2             9\n",
       "2            2           163\n",
       "             1           107\n",
       "Name: WHEEZING, dtype: int64"
      ]
     },
     "execution_count": 24,
     "metadata": {},
     "output_type": "execute_result"
    }
   ],
   "source": [
    "data.groupby('LUNG_CANCER')['WHEEZING'].value_counts()"
   ]
  },
  {
   "cell_type": "code",
   "execution_count": 25,
   "id": "3a2a98fd",
   "metadata": {},
   "outputs": [
    {
     "name": "stdout",
     "output_type": "stream",
     "text": [
      "несбалансированное соотношениие составляет: 1.9623161586515003e-05 или 0.0%\n",
      "статистически значимо, так как 1.9623161586515003e-05 <= 0.05\n",
      "симптом \"свистящее дыхание\" достоверно чаще встречается у больных раком легких\n"
     ]
    }
   ],
   "source": [
    "WHEEZING = [[30, 107],[9, 163]]\n",
    "oddsratio, pvalue = fisher_exact(WHEEZING, alternative='two-sided')\n",
    "print(f'несбалансированное соотношениие составляет: {pvalue} или {round(pvalue * 100, 2)}%')\n",
    "if pvalue > 0.05:\n",
    "    print(f'статистически незначимо, так как {pvalue} > 0.05')\n",
    "else:\n",
    "    print(f'статистически значимо, так как {pvalue} <= 0.05')\n",
    "    print(f'симптом \"свистящее дыхание\" достоверно чаще встречается у больных раком легких')"
   ]
  },
  {
   "cell_type": "code",
   "execution_count": 26,
   "id": "38ee55a4",
   "metadata": {},
   "outputs": [
    {
     "data": {
      "text/plain": [
       "LUNG_CANCER  COUGHING\n",
       "1            1            29\n",
       "             2            10\n",
       "2            2           169\n",
       "             1           101\n",
       "Name: COUGHING, dtype: int64"
      ]
     },
     "execution_count": 26,
     "metadata": {},
     "output_type": "execute_result"
    }
   ],
   "source": [
    "data.groupby('LUNG_CANCER')['COUGHING'].value_counts()"
   ]
  },
  {
   "cell_type": "code",
   "execution_count": 27,
   "id": "ab1bbe28",
   "metadata": {},
   "outputs": [
    {
     "name": "stdout",
     "output_type": "stream",
     "text": [
      "несбалансированное соотношениие составляет: 1.8341003714887104e-05 или 0.0%\n",
      "статистически значимо, так как 1.8341003714887104e-05 <= 0.05\n",
      "симптом \"кашель\" достоверно чаще встречается у больных раком легких\n"
     ]
    }
   ],
   "source": [
    "COUGHING = [[29, 101],[10, 169]]\n",
    "oddsratio, pvalue = fisher_exact(COUGHING, alternative='two-sided')\n",
    "print(f'несбалансированное соотношениие составляет: {pvalue} или {round(pvalue * 100, 2)}%')\n",
    "if pvalue > 0.05:\n",
    "    print(f'статистически незначимо, так как {pvalue} > 0.05')\n",
    "else:\n",
    "    print(f'статистически значимо, так как {pvalue} <= 0.05')\n",
    "    print(f'симптом \"кашель\" достоверно чаще встречается у больных раком легких')"
   ]
  },
  {
   "cell_type": "code",
   "execution_count": 28,
   "id": "f9b25002",
   "metadata": {},
   "outputs": [
    {
     "data": {
      "text/plain": [
       "LUNG_CANCER  SHORTNESS_OF_BREATH\n",
       "1            2                       22\n",
       "             1                       17\n",
       "2            2                      176\n",
       "             1                       94\n",
       "Name: SHORTNESS_OF_BREATH, dtype: int64"
      ]
     },
     "execution_count": 28,
     "metadata": {},
     "output_type": "execute_result"
    }
   ],
   "source": [
    "data.groupby('LUNG_CANCER')['SHORTNESS_OF_BREATH'].value_counts()"
   ]
  },
  {
   "cell_type": "code",
   "execution_count": 29,
   "id": "25776abe",
   "metadata": {},
   "outputs": [
    {
     "name": "stdout",
     "output_type": "stream",
     "text": [
      "несбалансированное соотношениие составляет: 0.2897420813348365 или 28.97%\n",
      "статистически незначимо, так как 0.2897420813348365 > 0.05\n"
     ]
    }
   ],
   "source": [
    "SHORTNESS_OF_BREATH = [[17, 94],[22, 176]]\n",
    "oddsratio, pvalue = fisher_exact(SHORTNESS_OF_BREATH, alternative='two-sided')\n",
    "print(f'несбалансированное соотношениие составляет: {pvalue} или {round(pvalue * 100, 2)}%')\n",
    "if pvalue > 0.05:\n",
    "    print(f'статистически незначимо, так как {pvalue} > 0.05')\n",
    "else:\n",
    "    print(f'статистически значимо, так как {pvalue} <= 0.05')\n",
    "    print(f'симптом \"одышка\" достоверно чаще встречается у больных раком легких')"
   ]
  },
  {
   "cell_type": "code",
   "execution_count": 30,
   "id": "ca020d7a",
   "metadata": {},
   "outputs": [
    {
     "data": {
      "text/plain": [
       "LUNG_CANCER  SWALLOWING_DIFFICULTY\n",
       "1            1                         34\n",
       "             2                          5\n",
       "2            2                        140\n",
       "             1                        130\n",
       "Name: SWALLOWING_DIFFICULTY, dtype: int64"
      ]
     },
     "execution_count": 30,
     "metadata": {},
     "output_type": "execute_result"
    }
   ],
   "source": [
    "data.groupby('LUNG_CANCER')['SWALLOWING_DIFFICULTY'].value_counts()"
   ]
  },
  {
   "cell_type": "code",
   "execution_count": 31,
   "id": "262580c6",
   "metadata": {},
   "outputs": [
    {
     "name": "stdout",
     "output_type": "stream",
     "text": [
      "несбалансированное соотношениие составляет: 3.6496552815358956e-06 или 0.0%\n",
      "статистически значимо, так как 3.6496552815358956e-06 <= 0.05\n",
      "симптом \"затрудненное глотание\" достоверно чаще встречается у больных раком легких\n"
     ]
    }
   ],
   "source": [
    "SHORTNESS_OF_BREATH = [[34, 130],[5, 140]]\n",
    "oddsratio, pvalue = fisher_exact(SHORTNESS_OF_BREATH, alternative='two-sided')\n",
    "print(f'несбалансированное соотношениие составляет: {pvalue} или {round(pvalue * 100, 2)}%')\n",
    "if pvalue > 0.05:\n",
    "    print(f'статистически незначимо, так как {pvalue} > 0.05')\n",
    "else:\n",
    "    print(f'статистически значимо, так как {pvalue} <= 0.05')\n",
    "    print(f'симптом \"затрудненное глотание\" достоверно чаще встречается у больных раком легких')"
   ]
  },
  {
   "cell_type": "code",
   "execution_count": 32,
   "id": "0da02ec6",
   "metadata": {},
   "outputs": [
    {
     "data": {
      "text/plain": [
       "LUNG_CANCER  CHEST_PAIN\n",
       "1            1              27\n",
       "             2              12\n",
       "2            2             160\n",
       "             1             110\n",
       "Name: CHEST_PAIN, dtype: int64"
      ]
     },
     "execution_count": 32,
     "metadata": {},
     "output_type": "execute_result"
    }
   ],
   "source": [
    "data.groupby('LUNG_CANCER')['CHEST_PAIN'].value_counts()"
   ]
  },
  {
   "cell_type": "code",
   "execution_count": 33,
   "id": "5d4e2029",
   "metadata": {},
   "outputs": [
    {
     "name": "stdout",
     "output_type": "stream",
     "text": [
      "несбалансированное соотношениие составляет: 0.000969289691720042 или 0.1%\n",
      "статистически значимо, так как 0.000969289691720042 <= 0.05\n",
      "симптом \"боли в груди\" достоверно чаще встречается у больных раком легких\n"
     ]
    }
   ],
   "source": [
    "CHEST_PAIN = [[27, 110],[12, 160]]\n",
    "oddsratio, pvalue = fisher_exact(CHEST_PAIN)\n",
    "print(f'несбалансированное соотношениие составляет: {pvalue} или {round(pvalue * 100, 2)}%')\n",
    "if pvalue > 0.05:\n",
    "    print(f'статистически незначимо, так как {pvalue} > 0.05')\n",
    "else:\n",
    "    print(f'статистически значимо, так как {pvalue} <= 0.05')\n",
    "    print(f'симптом \"боли в груди\" достоверно чаще встречается у больных раком легких')"
   ]
  },
  {
   "cell_type": "markdown",
   "id": "78d3a675",
   "metadata": {},
   "source": [
    "#### Вывод: Таким образом, все указанные симптомы, за исключением одышки (p = 0.29), встречаются достоверно чаще у больных раком легких при α = 0,05"
   ]
  },
  {
   "cell_type": "code",
   "execution_count": null,
   "id": "4ec3862f",
   "metadata": {},
   "outputs": [],
   "source": []
  }
 ],
 "metadata": {
  "kernelspec": {
   "display_name": "Python 3 (ipykernel)",
   "language": "python",
   "name": "python3"
  },
  "language_info": {
   "codemirror_mode": {
    "name": "ipython",
    "version": 3
   },
   "file_extension": ".py",
   "mimetype": "text/x-python",
   "name": "python",
   "nbconvert_exporter": "python",
   "pygments_lexer": "ipython3",
   "version": "3.9.12"
  }
 },
 "nbformat": 4,
 "nbformat_minor": 5
}
